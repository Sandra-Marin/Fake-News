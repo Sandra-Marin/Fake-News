{
  "cells": [
    {
      "cell_type": "code",
      "execution_count": 1,
      "id": "1cf0f04c",
      "metadata": {
        "id": "1cf0f04c"
      },
      "outputs": [],
      "source": [
        "#import libraries\n",
        "\n",
        "from bs4 import BeautifulSoup\n",
        "import pandas as pd\n",
        "import requests\n",
        "import urllib.request\n",
        "import time"
      ]
    },
    {
      "cell_type": "code",
      "execution_count": 2,
      "id": "65e2a834",
      "metadata": {
        "id": "65e2a834"
      },
      "outputs": [],
      "source": [
        "#Create list to store the scraped data\n",
        "\n",
        "authors = []\n",
        "dates = []\n",
        "statements = []\n",
        "sources = []\n",
        "targets = []\n"
      ]
    },
    {
      "cell_type": "code",
      "execution_count": null,
      "id": "RY_o9Y0-J1nB",
      "metadata": {
        "id": "RY_o9Y0-J1nB"
      },
      "outputs": [],
      "source": []
    },
    {
      "cell_type": "code",
      "execution_count": 3,
      "id": "1e70713f",
      "metadata": {
        "id": "1e70713f"
      },
      "outputs": [],
      "source": [
        "# Create a function to scrape the website\n",
        "\n",
        "def scrape_website(page_number):\n",
        "    page_num = str(page_number)\n",
        "    URL='https://www.politifact.com/factchecks/list/?page='+page_num\n",
        "    webpage = requests.get(URL)\n",
        "    soup= BeautifulSoup(webpage.text, 'html.parser')\n",
        "    #Get the location of the informantion\n",
        "    statement_footer = soup.find_all('footer', attrs={'class':'m-statement__footer'})  #Location of the author and the date\n",
        "    statement_quote = soup.find_all('div', attrs={'class':'m-statement__quote'})   #Location of the statement\n",
        "    statement_meta = soup.find_all('div', attrs={'class':'m-statement__meta'})  #Location of the source\n",
        "    target = soup.find_all('div', attrs={'class':'m-statement__meter'})  #Location of the target (score card)\n",
        "\n",
        "\n",
        "    #Loop through the statement_fotter\n",
        "\n",
        "    for i in statement_footer:\n",
        "        link1 = i.text.strip()\n",
        "        name_and_date = link1.split()\n",
        "        first_name = name_and_date[1]\n",
        "        last_name = name_and_date[2]\n",
        "        full_name = first_name +' '+ last_name\n",
        "        month = name_and_date[4]\n",
        "        day = name_and_date[5]\n",
        "        year = name_and_date[6]\n",
        "        date = month+ ' '+day+' '+ year\n",
        "        dates.append(date)\n",
        "        authors.append(full_name)\n",
        "        #Loop through the statement_quote\n",
        "        for i in statement_quote:\n",
        "            link2= i.find_all('a')\n",
        "            statement_text = link2[0].text.strip()\n",
        "            statements.append(statement_text)\n",
        "        #Loop through the meta\n",
        "        for i in statement_meta:\n",
        "            link3 = i.find_all('a')\n",
        "            source_text = link3[0].text.strip()\n",
        "            sources.append(source_text)\n",
        "            #Loop through the target\n",
        "        for i in target:\n",
        "            link4 = i.find('div', attrs={'class':'c-image'}).find('img').get('alt')\n",
        "            targets.append(link4)"
      ]
    },
    {
      "cell_type": "code",
      "execution_count": 4,
      "id": "d0420737",
      "metadata": {
        "id": "d0420737"
      },
      "outputs": [],
      "source": [
        "#Loop through 'n-1' webpages to scrape the data\n",
        "n=2\n",
        "for i in range(1,n):\n",
        "    scrape_website(i)"
      ]
    },
    {
      "cell_type": "code",
      "execution_count": 5,
      "id": "1dc4f136",
      "metadata": {
        "id": "1dc4f136"
      },
      "outputs": [],
      "source": [
        "# #Create the dataframe\n",
        "# data = pd.DataFrame(columns = ['author', 'statement', 'source', 'date', 'target'])\n",
        "# data['author'] = authors\n",
        "# data['statement'] = statements\n",
        "# data['source']=sources\n",
        "# data['date']=dates\n",
        "# data['target']=targets\n",
        "# #Show the data\n",
        "# data"
      ]
    },
    {
      "cell_type": "code",
      "execution_count": 6,
      "id": "40d98a52",
      "metadata": {
        "colab": {
          "base_uri": "https://localhost:8080/",
          "height": 423
        },
        "id": "40d98a52",
        "outputId": "b301f1f2-ee29-41c1-be6a-07002c701c10"
      },
      "outputs": [
        {
          "data": {
            "text/html": [
              "<div>\n",
              "<style scoped>\n",
              "    .dataframe tbody tr th:only-of-type {\n",
              "        vertical-align: middle;\n",
              "    }\n",
              "\n",
              "    .dataframe tbody tr th {\n",
              "        vertical-align: top;\n",
              "    }\n",
              "\n",
              "    .dataframe thead th {\n",
              "        text-align: right;\n",
              "    }\n",
              "</style>\n",
              "<table border=\"1\" class=\"dataframe\">\n",
              "  <thead>\n",
              "    <tr style=\"text-align: right;\">\n",
              "      <th></th>\n",
              "      <th>author</th>\n",
              "      <th>statement</th>\n",
              "      <th>source</th>\n",
              "      <th>date</th>\n",
              "      <th>target</th>\n",
              "    </tr>\n",
              "  </thead>\n",
              "  <tbody>\n",
              "    <tr>\n",
              "      <th>0</th>\n",
              "      <td>Ciara O'Rourke</td>\n",
              "      <td>“Buttigieg praises cargo ship for helping dism...</td>\n",
              "      <td>Viral image</td>\n",
              "      <td>March 29, 2024</td>\n",
              "      <td>false</td>\n",
              "    </tr>\n",
              "    <tr>\n",
              "      <th>1</th>\n",
              "      <td>Jill Terreri</td>\n",
              "      <td>In New York, there are no barriers to law enfo...</td>\n",
              "      <td>Kathy Hochul</td>\n",
              "      <td>• March 29,</td>\n",
              "      <td>barely-true</td>\n",
              "    </tr>\n",
              "    <tr>\n",
              "      <th>2</th>\n",
              "      <td>Grace Abels</td>\n",
              "      <td>“The Francis Scott Key bridge is the same brid...</td>\n",
              "      <td>Facebook posts</td>\n",
              "      <td>March 29, 2024</td>\n",
              "      <td>false</td>\n",
              "    </tr>\n",
              "    <tr>\n",
              "      <th>3</th>\n",
              "      <td>Laura Schulte</td>\n",
              "      <td>“We’re facing situations these days where you ...</td>\n",
              "      <td>Tammy Baldwin</td>\n",
              "      <td>March 29, 2024</td>\n",
              "      <td>true</td>\n",
              "    </tr>\n",
              "    <tr>\n",
              "      <th>4</th>\n",
              "      <td>Loreben Tuquero</td>\n",
              "      <td>\"Barco chino destruye imponente barco en Balti...</td>\n",
              "      <td>Facebook posts</td>\n",
              "      <td>March 29, 2024</td>\n",
              "      <td>false</td>\n",
              "    </tr>\n",
              "    <tr>\n",
              "      <th>...</th>\n",
              "      <td>...</td>\n",
              "      <td>...</td>\n",
              "      <td>...</td>\n",
              "      <td>...</td>\n",
              "      <td>...</td>\n",
              "    </tr>\n",
              "    <tr>\n",
              "      <th>895</th>\n",
              "      <td>None</td>\n",
              "      <td>“The captain of the container ship Dali…is a U...</td>\n",
              "      <td>X posts</td>\n",
              "      <td>None</td>\n",
              "      <td>false</td>\n",
              "    </tr>\n",
              "    <tr>\n",
              "      <th>896</th>\n",
              "      <td>None</td>\n",
              "      <td>Says “100% of net job creation under the Biden...</td>\n",
              "      <td>J.D. Vance</td>\n",
              "      <td>None</td>\n",
              "      <td>barely-true</td>\n",
              "    </tr>\n",
              "    <tr>\n",
              "      <th>897</th>\n",
              "      <td>None</td>\n",
              "      <td>Transportation Secretary Pete Buttigieg blamed...</td>\n",
              "      <td>X posts</td>\n",
              "      <td>None</td>\n",
              "      <td>false</td>\n",
              "    </tr>\n",
              "    <tr>\n",
              "      <th>898</th>\n",
              "      <td>None</td>\n",
              "      <td>Footage shows explosion on Baltimore bridge.</td>\n",
              "      <td>Instagram posts</td>\n",
              "      <td>None</td>\n",
              "      <td>pants-fire</td>\n",
              "    </tr>\n",
              "    <tr>\n",
              "      <th>899</th>\n",
              "      <td>None</td>\n",
              "      <td>\"El logo del canal de cable de niños Nickelode...</td>\n",
              "      <td>Facebook posts</td>\n",
              "      <td>None</td>\n",
              "      <td>false</td>\n",
              "    </tr>\n",
              "  </tbody>\n",
              "</table>\n",
              "<p>900 rows × 5 columns</p>\n",
              "</div>"
            ],
            "text/plain": [
              "              author                                          statement  \\\n",
              "0     Ciara O'Rourke  “Buttigieg praises cargo ship for helping dism...   \n",
              "1       Jill Terreri  In New York, there are no barriers to law enfo...   \n",
              "2        Grace Abels  “The Francis Scott Key bridge is the same brid...   \n",
              "3      Laura Schulte  “We’re facing situations these days where you ...   \n",
              "4    Loreben Tuquero  \"Barco chino destruye imponente barco en Balti...   \n",
              "..               ...                                                ...   \n",
              "895             None  “The captain of the container ship Dali…is a U...   \n",
              "896             None  Says “100% of net job creation under the Biden...   \n",
              "897             None  Transportation Secretary Pete Buttigieg blamed...   \n",
              "898             None       Footage shows explosion on Baltimore bridge.   \n",
              "899             None  \"El logo del canal de cable de niños Nickelode...   \n",
              "\n",
              "              source            date       target  \n",
              "0        Viral image  March 29, 2024        false  \n",
              "1       Kathy Hochul     • March 29,  barely-true  \n",
              "2     Facebook posts  March 29, 2024        false  \n",
              "3      Tammy Baldwin  March 29, 2024         true  \n",
              "4     Facebook posts  March 29, 2024        false  \n",
              "..               ...             ...          ...  \n",
              "895          X posts            None        false  \n",
              "896       J.D. Vance            None  barely-true  \n",
              "897          X posts            None        false  \n",
              "898  Instagram posts            None   pants-fire  \n",
              "899   Facebook posts            None        false  \n",
              "\n",
              "[900 rows x 5 columns]"
            ]
          },
          "execution_count": 6,
          "metadata": {},
          "output_type": "execute_result"
        }
      ],
      "source": [
        "\n",
        "import pandas as pd\n",
        "\n",
        "# Assuming you have lists: authors, statements, sources, dates, targets\n",
        "# Ensure all lists have the same length\n",
        "\n",
        "# Check lengths of lists\n",
        "lengths = [len(authors), len(statements), len(sources), len(dates), len(targets)]\n",
        "\n",
        "# Find the maximum length\n",
        "max_length = max(lengths)\n",
        "\n",
        "# Create a dictionary with lists as values and pad shorter lists with NaN\n",
        "data_dict = {\n",
        "    'author': authors + [None] * (max_length - len(authors)),\n",
        "    'statement': statements + [None] * (max_length - len(statements)),\n",
        "    'source': sources + [None] * (max_length - len(sources)),\n",
        "    'date': dates + [None] * (max_length - len(dates)),\n",
        "    'target': targets + [None] * (max_length - len(targets)),\n",
        "}\n",
        "\n",
        "# Create DataFrame\n",
        "data = pd.DataFrame(data_dict)\n",
        "\n",
        "# Show the data\n",
        "data"
      ]
    },
    {
      "cell_type": "code",
      "execution_count": 7,
      "id": "57f18f7e",
      "metadata": {
        "id": "57f18f7e"
      },
      "outputs": [],
      "source": [
        "#Create a function to get a binary number from the target\n",
        "def getBinaryNumTarget(text):\n",
        "  if text == 'true':\n",
        "    return 1\n",
        "  else:\n",
        "    return 0"
      ]
    },
    {
      "cell_type": "code",
      "execution_count": 8,
      "id": "3970f048",
      "metadata": {
        "id": "3970f048"
      },
      "outputs": [],
      "source": [
        "#Create a function to get a binary label true(REAL) or false(FAKE) from the target\n",
        "def getBinaryTarget(text):\n",
        "  if text == 'true':\n",
        "    return 'REAL'\n",
        "  else:\n",
        "    return 'FAKE'"
      ]
    },
    {
      "cell_type": "code",
      "execution_count": 9,
      "id": "629b40f2",
      "metadata": {
        "id": "629b40f2"
      },
      "outputs": [],
      "source": [
        "#Create two new colums on the dataframe\n",
        "data['BinaryTarget']= data['target'].apply(getBinaryTarget)\n",
        "data['BinaryNumTarget']= data['target'].apply(getBinaryNumTarget)"
      ]
    },
    {
      "cell_type": "code",
      "execution_count": 10,
      "id": "d70ec740",
      "metadata": {
        "colab": {
          "base_uri": "https://localhost:8080/",
          "height": 423
        },
        "id": "d70ec740",
        "outputId": "7af89afb-4083-4169-e56a-dd35acb2e2cf"
      },
      "outputs": [
        {
          "data": {
            "text/html": [
              "<div>\n",
              "<style scoped>\n",
              "    .dataframe tbody tr th:only-of-type {\n",
              "        vertical-align: middle;\n",
              "    }\n",
              "\n",
              "    .dataframe tbody tr th {\n",
              "        vertical-align: top;\n",
              "    }\n",
              "\n",
              "    .dataframe thead th {\n",
              "        text-align: right;\n",
              "    }\n",
              "</style>\n",
              "<table border=\"1\" class=\"dataframe\">\n",
              "  <thead>\n",
              "    <tr style=\"text-align: right;\">\n",
              "      <th></th>\n",
              "      <th>author</th>\n",
              "      <th>statement</th>\n",
              "      <th>source</th>\n",
              "      <th>date</th>\n",
              "      <th>target</th>\n",
              "      <th>BinaryTarget</th>\n",
              "      <th>BinaryNumTarget</th>\n",
              "    </tr>\n",
              "  </thead>\n",
              "  <tbody>\n",
              "    <tr>\n",
              "      <th>0</th>\n",
              "      <td>Ciara O'Rourke</td>\n",
              "      <td>“Buttigieg praises cargo ship for helping dism...</td>\n",
              "      <td>Viral image</td>\n",
              "      <td>March 29, 2024</td>\n",
              "      <td>false</td>\n",
              "      <td>FAKE</td>\n",
              "      <td>0</td>\n",
              "    </tr>\n",
              "    <tr>\n",
              "      <th>1</th>\n",
              "      <td>Jill Terreri</td>\n",
              "      <td>In New York, there are no barriers to law enfo...</td>\n",
              "      <td>Kathy Hochul</td>\n",
              "      <td>• March 29,</td>\n",
              "      <td>barely-true</td>\n",
              "      <td>FAKE</td>\n",
              "      <td>0</td>\n",
              "    </tr>\n",
              "    <tr>\n",
              "      <th>2</th>\n",
              "      <td>Grace Abels</td>\n",
              "      <td>“The Francis Scott Key bridge is the same brid...</td>\n",
              "      <td>Facebook posts</td>\n",
              "      <td>March 29, 2024</td>\n",
              "      <td>false</td>\n",
              "      <td>FAKE</td>\n",
              "      <td>0</td>\n",
              "    </tr>\n",
              "    <tr>\n",
              "      <th>3</th>\n",
              "      <td>Laura Schulte</td>\n",
              "      <td>“We’re facing situations these days where you ...</td>\n",
              "      <td>Tammy Baldwin</td>\n",
              "      <td>March 29, 2024</td>\n",
              "      <td>true</td>\n",
              "      <td>REAL</td>\n",
              "      <td>1</td>\n",
              "    </tr>\n",
              "    <tr>\n",
              "      <th>4</th>\n",
              "      <td>Loreben Tuquero</td>\n",
              "      <td>\"Barco chino destruye imponente barco en Balti...</td>\n",
              "      <td>Facebook posts</td>\n",
              "      <td>March 29, 2024</td>\n",
              "      <td>false</td>\n",
              "      <td>FAKE</td>\n",
              "      <td>0</td>\n",
              "    </tr>\n",
              "    <tr>\n",
              "      <th>...</th>\n",
              "      <td>...</td>\n",
              "      <td>...</td>\n",
              "      <td>...</td>\n",
              "      <td>...</td>\n",
              "      <td>...</td>\n",
              "      <td>...</td>\n",
              "      <td>...</td>\n",
              "    </tr>\n",
              "    <tr>\n",
              "      <th>895</th>\n",
              "      <td>None</td>\n",
              "      <td>“The captain of the container ship Dali…is a U...</td>\n",
              "      <td>X posts</td>\n",
              "      <td>None</td>\n",
              "      <td>false</td>\n",
              "      <td>FAKE</td>\n",
              "      <td>0</td>\n",
              "    </tr>\n",
              "    <tr>\n",
              "      <th>896</th>\n",
              "      <td>None</td>\n",
              "      <td>Says “100% of net job creation under the Biden...</td>\n",
              "      <td>J.D. Vance</td>\n",
              "      <td>None</td>\n",
              "      <td>barely-true</td>\n",
              "      <td>FAKE</td>\n",
              "      <td>0</td>\n",
              "    </tr>\n",
              "    <tr>\n",
              "      <th>897</th>\n",
              "      <td>None</td>\n",
              "      <td>Transportation Secretary Pete Buttigieg blamed...</td>\n",
              "      <td>X posts</td>\n",
              "      <td>None</td>\n",
              "      <td>false</td>\n",
              "      <td>FAKE</td>\n",
              "      <td>0</td>\n",
              "    </tr>\n",
              "    <tr>\n",
              "      <th>898</th>\n",
              "      <td>None</td>\n",
              "      <td>Footage shows explosion on Baltimore bridge.</td>\n",
              "      <td>Instagram posts</td>\n",
              "      <td>None</td>\n",
              "      <td>pants-fire</td>\n",
              "      <td>FAKE</td>\n",
              "      <td>0</td>\n",
              "    </tr>\n",
              "    <tr>\n",
              "      <th>899</th>\n",
              "      <td>None</td>\n",
              "      <td>\"El logo del canal de cable de niños Nickelode...</td>\n",
              "      <td>Facebook posts</td>\n",
              "      <td>None</td>\n",
              "      <td>false</td>\n",
              "      <td>FAKE</td>\n",
              "      <td>0</td>\n",
              "    </tr>\n",
              "  </tbody>\n",
              "</table>\n",
              "<p>900 rows × 7 columns</p>\n",
              "</div>"
            ],
            "text/plain": [
              "              author                                          statement  \\\n",
              "0     Ciara O'Rourke  “Buttigieg praises cargo ship for helping dism...   \n",
              "1       Jill Terreri  In New York, there are no barriers to law enfo...   \n",
              "2        Grace Abels  “The Francis Scott Key bridge is the same brid...   \n",
              "3      Laura Schulte  “We’re facing situations these days where you ...   \n",
              "4    Loreben Tuquero  \"Barco chino destruye imponente barco en Balti...   \n",
              "..               ...                                                ...   \n",
              "895             None  “The captain of the container ship Dali…is a U...   \n",
              "896             None  Says “100% of net job creation under the Biden...   \n",
              "897             None  Transportation Secretary Pete Buttigieg blamed...   \n",
              "898             None       Footage shows explosion on Baltimore bridge.   \n",
              "899             None  \"El logo del canal de cable de niños Nickelode...   \n",
              "\n",
              "              source            date       target BinaryTarget  \\\n",
              "0        Viral image  March 29, 2024        false         FAKE   \n",
              "1       Kathy Hochul     • March 29,  barely-true         FAKE   \n",
              "2     Facebook posts  March 29, 2024        false         FAKE   \n",
              "3      Tammy Baldwin  March 29, 2024         true         REAL   \n",
              "4     Facebook posts  March 29, 2024        false         FAKE   \n",
              "..               ...             ...          ...          ...   \n",
              "895          X posts            None        false         FAKE   \n",
              "896       J.D. Vance            None  barely-true         FAKE   \n",
              "897          X posts            None        false         FAKE   \n",
              "898  Instagram posts            None   pants-fire         FAKE   \n",
              "899   Facebook posts            None        false         FAKE   \n",
              "\n",
              "     BinaryNumTarget  \n",
              "0                  0  \n",
              "1                  0  \n",
              "2                  0  \n",
              "3                  1  \n",
              "4                  0  \n",
              "..               ...  \n",
              "895                0  \n",
              "896                0  \n",
              "897                0  \n",
              "898                0  \n",
              "899                0  \n",
              "\n",
              "[900 rows x 7 columns]"
            ]
          },
          "execution_count": 10,
          "metadata": {},
          "output_type": "execute_result"
        }
      ],
      "source": [
        "#Show the data\n",
        "data"
      ]
    },
    {
      "cell_type": "code",
      "execution_count": 11,
      "id": "Dg1lPyENnV2A",
      "metadata": {
        "colab": {
          "base_uri": "https://localhost:8080/",
          "height": 696
        },
        "id": "Dg1lPyENnV2A",
        "outputId": "b965c600-be85-4f8a-c6a9-148c39554360"
      },
      "outputs": [
        {
          "data": {
            "image/png": "[encoded data removed]",
            "text/plain": [
              "<Figure size 800x800 with 2 Axes>"
            ]
          },
          "metadata": {},
          "output_type": "display_data"
        }
      ],
      "source": [
        "# @title target vs BinaryTarget\n",
        "\n",
        "from matplotlib import pyplot as plt\n",
        "import seaborn as sns\n",
        "import pandas as pd\n",
        "plt.subplots(figsize=(8, 8))\n",
        "df_2dhist = pd.DataFrame({\n",
        "    x_label: grp['BinaryTarget'].value_counts()\n",
        "    for x_label, grp in data.groupby('target')\n",
        "})\n",
        "sns.heatmap(df_2dhist, cmap='viridis')\n",
        "plt.xlabel('target')\n",
        "_ = plt.ylabel('BinaryTarget')"
      ]
    },
    {
      "cell_type": "code",
      "execution_count": 12,
      "id": "QibjxYV-QD4c",
      "metadata": {
        "colab": {
          "base_uri": "https://localhost:8080/",
          "height": 430
        },
        "id": "QibjxYV-QD4c",
        "outputId": "00c5a1f1-cf08-4792-eea8-73f68d4d52dd"
      },
      "outputs": [
        {
          "data": {
            "image/png": "[encoded data removed]",
            "text/plain": [
              "<Figure size 640x480 with 1 Axes>"
            ]
          },
          "metadata": {},
          "output_type": "display_data"
        }
      ],
      "source": [
        "# @title source\n",
        "\n",
        "from matplotlib import pyplot as plt\n",
        "import seaborn as sns\n",
        "data.groupby('source').size().plot(kind='barh', color=sns.palettes.mpl_palette('Dark2'))\n",
        "plt.gca().spines[['top', 'right',]].set_visible(False)"
      ]
    },
    {
      "cell_type": "code",
      "execution_count": 13,
      "id": "8Yl-Rz3XQSxo",
      "metadata": {
        "cellView": "form",
        "colab": {
          "base_uri": "https://localhost:8080/",
          "height": 466
        },
        "id": "8Yl-Rz3XQSxo",
        "outputId": "9e32fc05-3aac-45bc-99b8-e84a19e403a0"
      },
      "outputs": [
        {
          "data": {
            "text/plain": [
              "<Axes: xlabel='target', ylabel='count'>"
            ]
          },
          "execution_count": 13,
          "metadata": {},
          "output_type": "execute_result"
        },
        {
          "data": {
            "image/png": "[encoded data removed]",
            "text/plain": [
              "<Figure size 640x480 with 1 Axes>"
            ]
          },
          "metadata": {},
          "output_type": "display_data"
        }
      ],
      "source": [
        "# @title Statement count per target\n",
        "\n",
        "sns.countplot(x=\"target\", data=data)"
      ]
    },
    {
      "cell_type": "code",
      "execution_count": 14,
      "id": "5a238fba",
      "metadata": {
        "id": "5a238fba"
      },
      "outputs": [],
      "source": [
        "#Store the data to a CSV File\n",
        "data.to_csv('political_fact_checker.csv')"
      ]
    },
    {
      "cell_type": "code",
      "execution_count": 15,
      "id": "d6879c43",
      "metadata": {
        "colab": {
          "base_uri": "https://localhost:8080/",
          "height": 564
        },
        "id": "d6879c43",
        "outputId": "99265910-ec54-4214-e69c-66f9d3b2f14a"
      },
      "outputs": [
        {
          "data": {
            "image/png": "[encoded data removed]",
            "text/plain": [
              "<Figure size 800x600 with 2 Axes>"
            ]
          },
          "metadata": {},
          "output_type": "display_data"
        }
      ],
      "source": [
        "from sklearn.metrics import confusion_matrix\n",
        "import seaborn as sns\n",
        "import matplotlib.pyplot as plt\n",
        "\n",
        "# Assuming you have a ground truth dataset named 'ground_truth' with columns 'BinaryNumTarget'\n",
        "# Replace 'ground_truth.csv' with the actual file path if needed\n",
        "ground_truth = pd.read_csv('political_fact_checker.csv')\n",
        "\n",
        "# Merge the predicted labels with the ground truth based on the index\n",
        "merged_data = pd.merge(data, ground_truth, left_index=True, right_index=True)\n",
        "\n",
        "# Extract the actual and predicted labels\n",
        "actual_labels = merged_data['BinaryNumTarget_x']\n",
        "predicted_labels = merged_data['BinaryNumTarget_y']\n",
        "\n",
        "# Create a confusion matrix\n",
        "conf_matrix = confusion_matrix(actual_labels, predicted_labels)\n",
        "\n",
        "# Display the confusion matrix using a heatmap\n",
        "plt.figure(figsize=(8, 6))\n",
        "sns.heatmap(conf_matrix, annot=True, fmt='d', cmap='Blues', xticklabels=['FAKE', 'REAL'], yticklabels=['FAKE', 'REAL'])\n",
        "plt.xlabel('Predicted Label')\n",
        "plt.ylabel('True Label')\n",
        "plt.title('Confusion Matrix')\n",
        "plt.show()\n"
      ]
    },
    {
      "cell_type": "code",
      "execution_count": 16,
      "id": "9SmZ0GGHOEy2",
      "metadata": {
        "colab": {
          "base_uri": "https://localhost:8080/",
          "height": 564
        },
        "id": "9SmZ0GGHOEy2",
        "outputId": "1ca6caa2-0e02-4f60-f7f0-67680cd1459f"
      },
      "outputs": [
        {
          "data": {
            "image/png": "[encoded data removed]",
            "text/plain": [
              "<Figure size 1000x600 with 1 Axes>"
            ]
          },
          "metadata": {},
          "output_type": "display_data"
        }
      ],
      "source": [
        "import seaborn as sns\n",
        "import matplotlib.pyplot as plt\n",
        "import pandas as pd\n",
        "\n",
        "# Load the CSV file\n",
        "data = pd.read_csv('political_fact_checker.csv')\n",
        "\n",
        "# Replace 'length_of_statements' with the actual column name you want to visualize\n",
        "variable_to_visualize = 'length_of_statements'\n",
        "\n",
        "# Create a new column for the length of statements\n",
        "data['length_of_statements'] = data['statement'].apply(len)\n",
        "\n",
        "# Create a boxplot\n",
        "plt.figure(figsize=(10, 6))\n",
        "sns.boxplot(x='BinaryTarget', y=variable_to_visualize, data=data)\n",
        "plt.title(f'Boxplot of {variable_to_visualize} for Real and Fake News')\n",
        "plt.xlabel('Label')\n",
        "plt.ylabel(variable_to_visualize)\n",
        "plt.show()\n",
        "\n",
        "\n"
      ]
    },
    {
      "cell_type": "code",
      "execution_count": 17,
      "id": "DS6XzlzNOo2x",
      "metadata": {
        "colab": {
          "base_uri": "https://localhost:8080/"
        },
        "id": "DS6XzlzNOo2x",
        "outputId": "7fe2fa0b-e06c-4e26-a268-69fe2aff2382"
      },
      "outputs": [
        {
          "name": "stdout",
          "output_type": "stream",
          "text": [
            "Precision: 1.0\n"
          ]
        }
      ],
      "source": [
        "import pandas as pd\n",
        "\n",
        "# Load the CSV file\n",
        "data = pd.read_csv('political_fact_checker.csv')\n",
        "\n",
        "# Assuming your CSV file has columns 'BinaryNumTarget' (actual labels) and 'BinaryNumTarget' (predicted labels)\n",
        "actual_labels = data['BinaryNumTarget']\n",
        "predicted_labels = data['BinaryNumTarget']\n",
        "\n",
        "# Calculate True Positive (TP) and False Positive (FP)\n",
        "TP = sum((actual_labels == 1) & (predicted_labels == 1))\n",
        "FP = sum((actual_labels == 0) & (predicted_labels == 1))\n",
        "\n",
        "# Check if TP + FP is not zero before calculating Precision\n",
        "if TP + FP != 0:\n",
        "    # Calculate Precision\n",
        "    precision = TP / (TP + FP)\n",
        "    print(\"Precision:\", precision)\n",
        "else:\n",
        "    print(\"Precision cannot be calculated because TP + FP is zero.\")\n"
      ]
    },
    {
      "cell_type": "code",
      "execution_count": 18,
      "id": "PeB7rPVyMgUL",
      "metadata": {
        "colab": {
          "base_uri": "https://localhost:8080/"
        },
        "id": "PeB7rPVyMgUL",
        "outputId": "778f64c2-27b0-466d-ebe2-19536a32e2db"
      },
      "outputs": [
        {
          "name": "stdout",
          "output_type": "stream",
          "text": [
            "Accuracy: 100.00%\n"
          ]
        }
      ],
      "source": [
        "from sklearn.metrics import accuracy_score\n",
        "\n",
        "# Assuming you have a ground truth dataset named 'ground_truth' with columns 'BinaryNumTarget'\n",
        "# Replace 'ground_truth.csv' with the actual file path if needed\n",
        "ground_truth = pd.read_csv('political_fact_checker.csv')\n",
        "\n",
        "# Merge the predicted labels with the ground truth based on the index\n",
        "merged_data = pd.merge(data, ground_truth, left_index=True, right_index=True)\n",
        "\n",
        "# Extract the actual and predicted labels\n",
        "actual_labels = merged_data['BinaryNumTarget_x']\n",
        "predicted_labels = merged_data['BinaryNumTarget_y']\n",
        "\n",
        "# Calculate accuracy\n",
        "accuracy = accuracy_score(actual_labels, predicted_labels)\n",
        "\n",
        "# Print the accuracy\n",
        "print(f'Accuracy: {accuracy * 100:.2f}%')\n"
      ]
    },
    {
      "cell_type": "code",
      "execution_count": 19,
      "id": "pGobyRhwMgRG",
      "metadata": {
        "colab": {
          "base_uri": "https://localhost:8080/"
        },
        "id": "pGobyRhwMgRG",
        "outputId": "64ef75b2-04c2-4c1b-8420-61add01fa367"
      },
      "outputs": [
        {
          "name": "stdout",
          "output_type": "stream",
          "text": [
            "Index(['Unnamed: 0', 'author', 'statement', 'source', 'date', 'target',\n",
            "       'BinaryTarget', 'BinaryNumTarget'],\n",
            "      dtype='object')\n"
          ]
        }
      ],
      "source": [
        "print(data.columns)\n",
        "\n",
        "\n"
      ]
    },
    {
      "cell_type": "code",
      "execution_count": 21,
      "id": "aa6fcf5e",
      "metadata": {},
      "outputs": [
        {
          "name": "stdout",
          "output_type": "stream",
          "text": [
            " * Serving Flask app '__main__'\n",
            " * Debug mode: off\n"
          ]
        },
        {
          "name": "stderr",
          "output_type": "stream",
          "text": [
            "WARNING: This is a development server. Do not use it in a production deployment. Use a production WSGI server instead.\n",
            " * Running on http://127.0.0.1:5000\n",
            "Press CTRL+C to quit\n",
            "127.0.0.1 - - [31/Mar/2024 21:52:16] \"GET / HTTP/1.1\" 200 -\n"
          ]
        }
      ],
      "source": [
        "from flask import Flask\n",
        "import pandas as pd\n",
        "\n",
        "app = Flask(__name__)\n",
        "\n",
        "# Load the CSV file\n",
        "data = pd.read_csv('political_fact_checker.csv')\n",
        "\n",
        "@app.route('/')\n",
        "def index():\n",
        "    html_output = \"\"\"\n",
        "    <!DOCTYPE html>\n",
        "    <html>\n",
        "    <head>\n",
        "        <title>Political Fact Checker</title>\n",
        "        <style>\n",
        "            body {\n",
        "                font-family: Arial, sans-serif;\n",
        "                margin: 20px;\n",
        "                background-color: #f5f5f5;\n",
        "                color: #333;\n",
        "            }\n",
        "            h1 {\n",
        "                text-align: center;\n",
        "                color: #007bff;\n",
        "                margin-bottom: 20px;\n",
        "            }\n",
        "            table {\n",
        "                border-collapse: collapse;\n",
        "                width: 100%;\n",
        "                background-color: #fff;\n",
        "                border-radius: 5px;\n",
        "                overflow: hidden;\n",
        "                box-shadow: 0 0 10px rgba(0, 0, 0, 0.1);\n",
        "            }\n",
        "            th, td {\n",
        "                border: 1px solid #ddd;\n",
        "                padding: 12px;\n",
        "                text-align: left;\n",
        "            }\n",
        "            th {\n",
        "                background-color: #007bff;\n",
        "                color: #fff;\n",
        "            }\n",
        "            tr:nth-child(even) {\n",
        "                background-color: #f2f2f2;\n",
        "            }\n",
        "            tr:hover {\n",
        "                background-color: #ddd;\n",
        "            }\n",
        "        </style>\n",
        "    </head>\n",
        "    <body>\n",
        "\n",
        "    <h1>Political Fact Checker</h1>\n",
        "\n",
        "    <table>\n",
        "        <thead>\n",
        "            <tr>\n",
        "                <th>Author</th>\n",
        "                <th>Statement</th>\n",
        "                <th>Source</th>\n",
        "                <th>Date</th>\n",
        "                <th>Target</th>\n",
        "            </tr>\n",
        "        </thead>\n",
        "        <tbody>\n",
        "    \"\"\"\n",
        "\n",
        "    # Iterate over rows in the DataFrame and add them to the HTML output\n",
        "    for _, row in data.iterrows():\n",
        "        html_output += \"\"\"\n",
        "            <tr>\n",
        "                <td>{}</td>\n",
        "                <td>{}</td>\n",
        "                <td>{}</td>\n",
        "                <td>{}</td>\n",
        "                <td>{}</td>\n",
        "            </tr>\n",
        "        \"\"\".format(row['author'], row['statement'], row['source'], row['date'], row['target'])\n",
        "\n",
        "    html_output += \"\"\"\n",
        "        </tbody>\n",
        "    </table>\n",
        "\n",
        "    </body>\n",
        "    </html>\n",
        "    \"\"\"\n",
        "    \n",
        "    return html_output\n",
        "\n",
        "if __name__ == '__main__':\n",
        "    app.run(port=5000)\n"
      ]
    },
    {
      "cell_type": "code",
      "execution_count": null,
      "id": "610d0c87",
      "metadata": {},
      "outputs": [],
      "source": []
    }
  ],
  "metadata": {
    "colab": {
      "provenance": []
    },
    "kernelspec": {
      "display_name": "Python 3 (ipykernel)",
      "language": "python",
      "name": "python3"
    },
    "language_info": {
      "codemirror_mode": {
        "name": "ipython",
        "version": 3
      },
      "file_extension": ".py",
      "mimetype": "text/x-python",
      "name": "python",
      "nbconvert_exporter": "python",
      "pygments_lexer": "ipython3",
      "version": "3.11.0"
    }
  },
  "nbformat": 4,
  "nbformat_minor": 5
}
